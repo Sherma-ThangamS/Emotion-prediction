{
  "cells": [
    {
      "cell_type": "code",
      "execution_count": 14,
      "metadata": {
        "id": "5agZRy-45i0g"
      },
      "outputs": [
        {
          "name": "stdout",
          "output_type": "stream",
          "text": [
            "Requirement already satisfied: nlp in c:\\users\\sherm\\appdata\\local\\programs\\python\\python310\\lib\\site-packages (0.4.0)\n",
            "Requirement already satisfied: numpy in c:\\users\\sherm\\appdata\\local\\programs\\python\\python310\\lib\\site-packages (from nlp) (1.23.5)\n",
            "Requirement already satisfied: pyarrow>=0.16.0 in c:\\users\\sherm\\appdata\\local\\programs\\python\\python310\\lib\\site-packages (from nlp) (11.0.0)\n",
            "Requirement already satisfied: dill in c:\\users\\sherm\\appdata\\local\\programs\\python\\python310\\lib\\site-packages (from nlp) (0.3.6)\n",
            "Requirement already satisfied: pandas in c:\\users\\sherm\\appdata\\local\\programs\\python\\python310\\lib\\site-packages (from nlp) (1.4.4)\n",
            "Requirement already satisfied: requests>=2.19.0 in c:\\users\\sherm\\appdata\\local\\programs\\python\\python310\\lib\\site-packages (from nlp) (2.28.1)\n",
            "Requirement already satisfied: tqdm>=4.27 in c:\\users\\sherm\\appdata\\local\\programs\\python\\python310\\lib\\site-packages (from nlp) (4.64.1)\n",
            "Requirement already satisfied: filelock in c:\\users\\sherm\\appdata\\local\\programs\\python\\python310\\lib\\site-packages (from nlp) (3.7.1)\n",
            "Requirement already satisfied: xxhash in c:\\users\\sherm\\appdata\\local\\programs\\python\\python310\\lib\\site-packages (from nlp) (3.2.0)\n",
            "Requirement already satisfied: charset-normalizer<3,>=2 in c:\\users\\sherm\\appdata\\local\\programs\\python\\python310\\lib\\site-packages (from requests>=2.19.0->nlp) (2.1.1)\n",
            "Requirement already satisfied: idna<4,>=2.5 in c:\\users\\sherm\\appdata\\local\\programs\\python\\python310\\lib\\site-packages (from requests>=2.19.0->nlp) (2.10)\n",
            "Requirement already satisfied: urllib3<1.27,>=1.21.1 in c:\\users\\sherm\\appdata\\local\\programs\\python\\python310\\lib\\site-packages (from requests>=2.19.0->nlp) (1.26.14)\n",
            "Requirement already satisfied: certifi>=2017.4.17 in c:\\users\\sherm\\appdata\\local\\programs\\python\\python310\\lib\\site-packages (from requests>=2.19.0->nlp) (2022.12.7)\n",
            "Requirement already satisfied: colorama in c:\\users\\sherm\\appdata\\local\\programs\\python\\python310\\lib\\site-packages (from tqdm>=4.27->nlp) (0.4.6)\n",
            "Requirement already satisfied: python-dateutil>=2.8.1 in c:\\users\\sherm\\appdata\\local\\programs\\python\\python310\\lib\\site-packages (from pandas->nlp) (2.8.2)\n",
            "Requirement already satisfied: pytz>=2020.1 in c:\\users\\sherm\\appdata\\local\\programs\\python\\python310\\lib\\site-packages (from pandas->nlp) (2022.7.1)\n",
            "Requirement already satisfied: six>=1.5 in c:\\users\\sherm\\appdata\\local\\programs\\python\\python310\\lib\\site-packages (from python-dateutil>=2.8.1->pandas->nlp) (1.16.0)\n"
          ]
        },
        {
          "name": "stderr",
          "output_type": "stream",
          "text": [
            "\n",
            "[notice] A new release of pip is available: 23.1 -> 23.1.2\n",
            "[notice] To update, run: python.exe -m pip install --upgrade pip\n"
          ]
        }
      ],
      "source": [
        "!pip install nlp"
      ]
    },
    {
      "cell_type": "code",
      "execution_count": 15,
      "metadata": {
        "id": "yKFjWz6e5eiH"
      },
      "outputs": [
        {
          "name": "stdout",
          "output_type": "stream",
          "text": [
            "Using TensorFlow version 2.11.0\n"
          ]
        }
      ],
      "source": [
        "%matplotlib inline\n",
        "\n",
        "import tensorflow as tf\n",
        "import numpy as np\n",
        "import matplotlib.pyplot as plt\n",
        "import nlp\n",
        "import random\n",
        "import gzip\n",
        "import json\n",
        "\n",
        "def show_history(h):\n",
        "    epochs_trained = len(h.history['loss'])\n",
        "    plt.figure(figsize=(16, 6))\n",
        "\n",
        "    plt.subplot(1, 2, 1)\n",
        "    plt.plot(range(0, epochs_trained), h.history.get('accuracy'), label='Training')\n",
        "    plt.plot(range(0, epochs_trained), h.history.get('val_accuracy'), label='Validation')\n",
        "    plt.ylim([0., 1.])\n",
        "    plt.xlabel('Epochs')\n",
        "    plt.ylabel('Accuracy')\n",
        "    plt.legend()\n",
        "\n",
        "    plt.subplot(1, 2, 2)\n",
        "    plt.plot(range(0, epochs_trained), h.history.get('loss'), label='Training')\n",
        "    plt.plot(range(0, epochs_trained), h.history.get('val_loss'), label='Validation')\n",
        "    plt.xlabel('Epochs')\n",
        "    plt.ylabel('Loss')\n",
        "    plt.legend()\n",
        "    plt.show()\n",
        "\n",
        "    \n",
        "def show_confusion_matrix(y_true, y_pred, classes):\n",
        "    from sklearn.metrics import confusion_matrix\n",
        "    \n",
        "    cm = confusion_matrix(y_true, y_pred, normalize='true')\n",
        "\n",
        "    plt.figure(figsize=(8, 8))\n",
        "    sp = plt.subplot(1, 1, 1)\n",
        "    ctx = sp.matshow(cm)\n",
        "    plt.xticks(list(range(0, 6)), labels=classes)\n",
        "    plt.yticks(list(range(0, 6)), labels=classes)\n",
        "    plt.colorbar(ctx)\n",
        "    plt.show()\n",
        "\n",
        "    \n",
        "print('Using TensorFlow version', tf.__version__)"
      ]
    },
    {
      "cell_type": "code",
      "execution_count": 16,
      "metadata": {
        "id": "2s0h541FxIgc"
      },
      "outputs": [],
      "source": [
        "def get_tweet(data):\n",
        "    l1=[]\n",
        "    l2=[]\n",
        "    with gzip.open(data,'rb') as f:\n",
        "        for l in f:\n",
        "            json_obj=json.loads(l.decode('utf-8'))\n",
        "            l1.append(json_obj['text'])\n",
        "            l2.append(json_obj['label'])\n",
        "    return l1,l2"
      ]
    },
    {
      "cell_type": "code",
      "execution_count": 17,
      "metadata": {},
      "outputs": [],
      "source": [
        "tweets=[]\n",
        "labels=[]"
      ]
    },
    {
      "cell_type": "code",
      "execution_count": 18,
      "metadata": {},
      "outputs": [],
      "source": [
        "with gzip.open('train.jsonl.gz','rb') as f:\n",
        "    for l in f:\n",
        "        json_obj=json.loads(l.decode('utf-8'))\n",
        "        tweets.append(json_obj['text'])\n",
        "        labels.append(json_obj['label'])"
      ]
    },
    {
      "cell_type": "code",
      "execution_count": 19,
      "metadata": {
        "id": "z7eCnxU25eiN"
      },
      "outputs": [
        {
          "data": {
            "text/plain": [
              "('i didnt feel humiliated', 0)"
            ]
          },
          "execution_count": 19,
          "metadata": {},
          "output_type": "execute_result"
        }
      ],
      "source": [
        "tweets[0],labels[0]"
      ]
    },
    {
      "cell_type": "code",
      "execution_count": 20,
      "metadata": {
        "id": "oDYXMfZy5eiP"
      },
      "outputs": [],
      "source": [
        "# 0: Sadness\n",
        "# 5:'surprise',1:'joy',0:'sadness',3:'anger',4:'fear',2:'love'"
      ]
    },
    {
      "cell_type": "code",
      "execution_count": 21,
      "metadata": {
        "id": "qfX5-ResxIgq"
      },
      "outputs": [],
      "source": [
        "from keras.preprocessing.text import Tokenizer"
      ]
    },
    {
      "cell_type": "code",
      "execution_count": 22,
      "metadata": {
        "id": "cckUvwBo5eif"
      },
      "outputs": [
        {
          "data": {
            "text/plain": [
              "([[2, 139, 3, 679]], 'i didnt feel humiliated')"
            ]
          },
          "execution_count": 22,
          "metadata": {},
          "output_type": "execute_result"
        }
      ],
      "source": [
        "tokenizer=Tokenizer(num_words=10000,oov_token='<UNK>')\n",
        "tokenizer.fit_on_texts(tweets)\n",
        "tokenizer.texts_to_sequences([tweets[0]]),tweets[0]"
      ]
    },
    {
      "cell_type": "code",
      "execution_count": 23,
      "metadata": {
        "id": "mLvf_WFZxIgu"
      },
      "outputs": [
        {
          "data": {
            "image/png": "[encoded data removed]",
            "text/plain": [
              "<Figure size 640x480 with 1 Axes>"
            ]
          },
          "metadata": {},
          "output_type": "display_data"
        }
      ],
      "source": [
        "length=[len(x.split()) for x in tweets]\n",
        "plt.hist(length,bins=len(set(length)))\n",
        "plt.show()"
      ]
    },
    {
      "cell_type": "code",
      "execution_count": 24,
      "metadata": {
        "id": "eglH77ky5ei0"
      },
      "outputs": [],
      "source": [
        "maxlen=50"
      ]
    },
    {
      "cell_type": "code",
      "execution_count": 25,
      "metadata": {
        "id": "Q9J_Iemf5eiq"
      },
      "outputs": [],
      "source": [
        "from tensorflow.keras.preprocessing.sequence import pad_sequences"
      ]
    },
    {
      "cell_type": "code",
      "execution_count": 26,
      "metadata": {
        "id": "EOi5lIE3xIgx"
      },
      "outputs": [],
      "source": [
        "def get_sequences(tokenizer,tweets):\n",
        "    sequences=tokenizer.texts_to_sequences(tweets)\n",
        "    padded=pad_sequences(sequences,truncating='post',padding='post',maxlen=maxlen)\n",
        "    return padded"
      ]
    },
    {
      "cell_type": "code",
      "execution_count": 27,
      "metadata": {
        "id": "iGR473HA5ei7"
      },
      "outputs": [
        {
          "data": {
            "text/plain": [
              "array([  2, 139,   3, 679,   0,   0,   0,   0,   0,   0,   0,   0,   0,\n",
              "         0,   0,   0,   0,   0,   0,   0,   0,   0,   0,   0,   0,   0,\n",
              "         0,   0,   0,   0,   0,   0,   0,   0,   0,   0,   0,   0,   0,\n",
              "         0,   0,   0,   0,   0,   0,   0,   0,   0,   0,   0])"
            ]
          },
          "execution_count": 27,
          "metadata": {},
          "output_type": "execute_result"
        }
      ],
      "source": [
        "padded_train_seq=get_sequences(tokenizer,tweets)\n",
        "padded_train_seq[0]"
      ]
    },
    {
      "cell_type": "code",
      "execution_count": 28,
      "metadata": {
        "id": "SufT2bpD5ejE"
      },
      "outputs": [
        {
          "data": {
            "text/plain": [
              "{0, 1, 2, 3, 4, 5}"
            ]
          },
          "execution_count": 28,
          "metadata": {},
          "output_type": "execute_result"
        }
      ],
      "source": [
        "classes=set(labels)\n",
        "classes"
      ]
    },
    {
      "cell_type": "code",
      "execution_count": 29,
      "metadata": {
        "id": "rpwzL88I7YSm"
      },
      "outputs": [
        {
          "data": {
            "image/png": "[encoded data removed]",
            "text/plain": [
              "<Figure size 640x480 with 1 Axes>"
            ]
          },
          "metadata": {},
          "output_type": "display_data"
        }
      ],
      "source": [
        "plt.hist(labels,11)\n",
        "plt.show()"
      ]
    },
    {
      "cell_type": "code",
      "execution_count": 30,
      "metadata": {
        "id": "dNLF6rXL5ejN"
      },
      "outputs": [],
      "source": [
        "index_to_class={ 5:'surprise',1:'joy',0:'sadness',3:'anger',4:'fear',2:'love'}"
      ]
    },
    {
      "cell_type": "code",
      "execution_count": 31,
      "metadata": {},
      "outputs": [],
      "source": [
        "class_to_index=dict((v,k) for k,v in index_to_class.items())"
      ]
    },
    {
      "cell_type": "code",
      "execution_count": 32,
      "metadata": {
        "id": "_08InVyM5ejc"
      },
      "outputs": [
        {
          "data": {
            "text/plain": [
              "{5: 'surprise', 1: 'joy', 0: 'sadness', 3: 'anger', 4: 'fear', 2: 'love'}"
            ]
          },
          "execution_count": 32,
          "metadata": {},
          "output_type": "execute_result"
        }
      ],
      "source": [
        "index_to_class"
      ]
    },
    {
      "cell_type": "code",
      "execution_count": 33,
      "metadata": {
        "id": "gpeDoA6gxIhE"
      },
      "outputs": [],
      "source": [
        "id_to_names=lambda labels:np.array([index_to_class.get(x) for x in labels])\n",
        "names_to_id=lambda labels:np.array(([class_to_index.get(x) for x in labels]))"
      ]
    },
    {
      "cell_type": "code",
      "execution_count": 34,
      "metadata": {
        "id": "Jq0WJYsP5ejR"
      },
      "outputs": [
        {
          "data": {
            "text/plain": [
              "array(['sadness', 'sadness', 'anger', ..., 'joy', 'anger', 'sadness'],\n",
              "      dtype='<U8')"
            ]
          },
          "execution_count": 34,
          "metadata": {},
          "output_type": "execute_result"
        }
      ],
      "source": [
        "\n",
        "train_labels=id_to_names(labels)\n",
        "train_labels"
      ]
    },
    {
      "cell_type": "code",
      "execution_count": 35,
      "metadata": {
        "id": "OpewXxPQ5eji"
      },
      "outputs": [],
      "source": [
        "model=tf.keras.models.Sequential([\n",
        "    tf.keras.layers.Embedding(10000,16,input_length=maxlen),\n",
        "    tf.keras.layers.Bidirectional(tf.keras.layers.LSTM(20,return_sequences=True)),\n",
        "    tf.keras.layers.Bidirectional(tf.keras.layers.LSTM(20)),\n",
        "    tf.keras.layers.Dense(6,activation='softmax')\n",
        "])\n",
        "model.compile(\n",
        "    loss='sparse_categorical_crossentropy',\n",
        "    optimizer='adam',\n",
        "    metrics=['accuracy']\n",
        ")"
      ]
    },
    {
      "cell_type": "code",
      "execution_count": 36,
      "metadata": {},
      "outputs": [
        {
          "name": "stdout",
          "output_type": "stream",
          "text": [
            "Model: \"sequential\"\n",
            "_________________________________________________________________\n",
            " Layer (type)                Output Shape              Param #   \n",
            "=================================================================\n",
            " embedding (Embedding)       (None, 50, 16)            160000    \n",
            "                                                                 \n",
            " bidirectional (Bidirectiona  (None, 50, 40)           5920      \n",
            " l)                                                              \n",
            "                                                                 \n",
            " bidirectional_1 (Bidirectio  (None, 40)               9760      \n",
            " nal)                                                            \n",
            "                                                                 \n",
            " dense (Dense)               (None, 6)                 246       \n",
            "                                                                 \n",
            "=================================================================\n",
            "Total params: 175,926\n",
            "Trainable params: 175,926\n",
            "Non-trainable params: 0\n",
            "_________________________________________________________________\n"
          ]
        }
      ],
      "source": [
        "model.summary()"
      ]
    },
    {
      "cell_type": "code",
      "execution_count": 37,
      "metadata": {},
      "outputs": [],
      "source": [
        "val_tweets=[]\n",
        "val_labels=[]"
      ]
    },
    {
      "cell_type": "code",
      "execution_count": 38,
      "metadata": {
        "id": "Ff7F3hCK5ejm"
      },
      "outputs": [],
      "source": [
        "with gzip.open('validation.jsonl.gz','rb') as f:\n",
        "    for l in f:\n",
        "        json_obj=json.loads(l.decode('utf-8'))\n",
        "        val_tweets.append(json_obj['text'])\n",
        "        val_labels.append(json_obj['label'])"
      ]
    },
    {
      "cell_type": "code",
      "execution_count": 39,
      "metadata": {},
      "outputs": [
        {
          "data": {
            "text/plain": [
              "('im feeling quite sad and sorry for myself but ill snap out of it soon', 0)"
            ]
          },
          "execution_count": 39,
          "metadata": {},
          "output_type": "execute_result"
        }
      ],
      "source": [
        "val_tweets[0],val_labels[0]"
      ]
    },
    {
      "cell_type": "code",
      "execution_count": 40,
      "metadata": {
        "id": "hlMKaZ3H5ejr"
      },
      "outputs": [],
      "source": [
        "val_seq=get_sequences(tokenizer,val_tweets)"
      ]
    },
    {
      "cell_type": "code",
      "execution_count": 41,
      "metadata": {},
      "outputs": [
        {
          "data": {
            "text/plain": [
              "array([[   2,  139,    3, ...,    0,    0,    0],\n",
              "       [   2,   40,  101, ...,    0,    0,    0],\n",
              "       [  17, 3060,    7, ...,    0,    0,    0],\n",
              "       ...,\n",
              "       [   2,    3,  327, ...,    0,    0,    0],\n",
              "       [   2,    3,   14, ...,    0,    0,    0],\n",
              "       [   2,   47,    7, ...,    0,    0,    0]])"
            ]
          },
          "execution_count": 41,
          "metadata": {},
          "output_type": "execute_result"
        }
      ],
      "source": [
        "train=np.array(labels)\n",
        "padded_train_seq"
      ]
    },
    {
      "cell_type": "code",
      "execution_count": 42,
      "metadata": {},
      "outputs": [],
      "source": [
        "val_labels=np.array(val_labels)\n",
        "train = train.reshape(-1, 1,)\n",
        "val_labels = val_labels.reshape(-1, 1)\n",
        "# train = np.array(labels).reshape((-1,))\n",
        "# val_labels = np.array(val_labels).reshape((-1,))"
      ]
    },
    {
      "cell_type": "code",
      "execution_count": 43,
      "metadata": {},
      "outputs": [
        {
          "name": "stdout",
          "output_type": "stream",
          "text": [
            "padded_train_seq shape: (16000, 50)\n",
            "train shape: (16000, 1)\n",
            "val_seq shape: (2000, 50)\n",
            "val_labels shape: (2000, 1)\n"
          ]
        }
      ],
      "source": [
        "\n",
        "print(\"padded_train_seq shape:\", padded_train_seq.shape)\n",
        "# print(\"labels shape:\", labels.shape)\n",
        "print(\"train shape:\", train.shape)\n",
        "print(\"val_seq shape:\", val_seq.shape)\n",
        "print(\"val_labels shape:\", val_labels.shape)\n",
        "\n"
      ]
    },
    {
      "cell_type": "code",
      "execution_count": 44,
      "metadata": {},
      "outputs": [
        {
          "name": "stdout",
          "output_type": "stream",
          "text": [
            "Epoch 1/20\n",
            "500/500 [==============================] - 24s 42ms/step - loss: 1.3302 - accuracy: 0.4895 - val_loss: 1.0520 - val_accuracy: 0.5920\n",
            "Epoch 2/20\n",
            "500/500 [==============================] - 22s 45ms/step - loss: 0.6973 - accuracy: 0.7549 - val_loss: 0.6089 - val_accuracy: 0.8035\n",
            "Epoch 3/20\n",
            "500/500 [==============================] - 29s 58ms/step - loss: 0.3837 - accuracy: 0.8742 - val_loss: 0.4491 - val_accuracy: 0.8530\n",
            "Epoch 4/20\n",
            "500/500 [==============================] - 28s 56ms/step - loss: 0.2278 - accuracy: 0.9274 - val_loss: 0.4080 - val_accuracy: 0.8715\n",
            "Epoch 5/20\n",
            "500/500 [==============================] - 16s 32ms/step - loss: 0.3340 - accuracy: 0.8969 - val_loss: 0.5477 - val_accuracy: 0.8240\n",
            "Epoch 6/20\n",
            "500/500 [==============================] - 16s 32ms/step - loss: 0.2407 - accuracy: 0.9224 - val_loss: 0.4007 - val_accuracy: 0.8670\n"
          ]
        }
      ],
      "source": [
        "import traceback\n",
        "\n",
        "try:\n",
        "    h = model.fit(\n",
        "        padded_train_seq,\n",
        "        train,\n",
        "        epochs=20,\n",
        "        validation_data=(val_seq,val_labels),\n",
        "        callbacks=[\n",
        "            tf.keras.callbacks.EarlyStopping(monitor='val_accuracy',patience=2)\n",
        "        ]\n",
        "    )\n",
        "except Exception as e:\n",
        "    print(f\"Error occurred: {e}\")\n",
        "    print(\"Error traceback:\")\n",
        "    traceback.print_tb(e.__traceback__)\n"
      ]
    },
    {
      "cell_type": "code",
      "execution_count": 45,
      "metadata": {},
      "outputs": [],
      "source": [
        "# model.save('emotion_model_learning.h5')"
      ]
    },
    {
      "cell_type": "code",
      "execution_count": 46,
      "metadata": {},
      "outputs": [],
      "source": [
        "model = tf.keras.models.load_model('emotion_model_learning.h5')"
      ]
    },
    {
      "cell_type": "code",
      "execution_count": 47,
      "metadata": {
        "id": "ENCfvXeLxIhX"
      },
      "outputs": [
        {
          "data": {
            "image/png": "[encoded data removed]",
            "text/plain": [
              "<Figure size 1600x600 with 2 Axes>"
            ]
          },
          "metadata": {},
          "output_type": "display_data"
        }
      ],
      "source": [
        "show_history(h)"
      ]
    },
    {
      "cell_type": "code",
      "execution_count": 48,
      "metadata": {
        "id": "kWuzoz8uxIha"
      },
      "outputs": [],
      "source": [
        "eval_tweets,eval_labels=get_tweet('test.jsonl.gz')"
      ]
    },
    {
      "cell_type": "code",
      "execution_count": 49,
      "metadata": {
        "id": "7vRVJ_2SxIhc"
      },
      "outputs": [],
      "source": [
        "test_seq=get_sequences(tokenizer,eval_tweets)\n",
        "eval_labels=np.array(eval_labels)\n",
        "eval_labels=eval_labels.reshape(-1,1)"
      ]
    },
    {
      "cell_type": "code",
      "execution_count": 50,
      "metadata": {
        "id": "rh638vHG5ej6"
      },
      "outputs": [
        {
          "name": "stdout",
          "output_type": "stream",
          "text": [
            "63/63 [==============================] - 2s 9ms/step - loss: 0.4822 - accuracy: 0.8795\n"
          ]
        }
      ],
      "source": [
        "a=model.evaluate(test_seq,np.array(eval_labels))"
      ]
    },
    {
      "cell_type": "code",
      "execution_count": 62,
      "metadata": {
        "id": "hHl5SVCFxIhh"
      },
      "outputs": [
        {
          "name": "stdout",
          "output_type": "stream",
          "text": [
            "Sentence:  i took care of myself by avoiding family events that make me feel shitty\n",
            "Emotion:  sadness\n",
            "1/1 [==============================] - 0s 19ms/step\n",
            "predicted emotion:  sadness\n"
          ]
        }
      ],
      "source": [
        "i=random.randint(0,len(eval_labels)-1)\n",
        "print('Sentence: ',eval_tweets[i])\n",
        "print('Emotion: ',index_to_class[eval_labels[i][0]])\n",
        "p=model.predict(np.expand_dims(test_seq[i],axis=0))[0]\n",
        "# p=model.predict(eval_tweets[i])\n",
        "pred_class=index_to_class[np.argmax(p).astype('uint8')]\n",
        "print('predicted emotion: ',pred_class)"
      ]
    }
  ],
  "metadata": {
    "accelerator": "GPU",
    "colab": {
      "provenance": []
    },
    "kernelspec": {
      "display_name": "Python 3",
      "language": "python",
      "name": "python3"
    },
    "language_info": {
      "codemirror_mode": {
        "name": "ipython",
        "version": 3
      },
      "file_extension": ".py",
      "mimetype": "text/x-python",
      "name": "python",
      "nbconvert_exporter": "python",
      "pygments_lexer": "ipython3",
      "version": "3.10.9"
    }
  },
  "nbformat": 4,
  "nbformat_minor": 0
}
